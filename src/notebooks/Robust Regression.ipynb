{
 "cells": [
  {
   "cell_type": "code",
   "execution_count": 2,
   "metadata": {
    "collapsed": true
   },
   "outputs": [],
   "source": [
    "import matplotlib\n",
    "import matplotlib.pyplot as plt\n",
    "%matplotlib inline\n",
    "import numpy as np"
   ]
  },
  {
   "cell_type": "code",
   "execution_count": 13,
   "metadata": {},
   "outputs": [
    {
     "data": {
      "image/png": "[encoded data removed]",
      "text/plain": [
       "<matplotlib.figure.Figure at 0x113e57c18>"
      ]
     },
     "metadata": {},
     "output_type": "display_data"
    }
   ],
   "source": [
    "n, N = 10, 1000\n",
    "x = np.linspace(-3, 3, n)\n",
    "X = np.linspace(-4, 4, N)\n",
    "# print('x', x)\n",
    "# print('X', X.shape)\n",
    "np.random.seed(5)\n",
    "y = x + 0.2 * np.random.normal(size=n)\n",
    "y[2], y[n -2], y[n - 1] = [-4] * 3\n",
    "\n",
    "plt.scatter(x, y)\n",
    "axes = plt.gca()\n",
    "axes.set_ylim([-4.5, 3])\n",
    "plt.show()"
   ]
  },
  {
   "cell_type": "code",
   "execution_count": 41,
   "metadata": {},
   "outputs": [
    {
     "data": {
      "image/png": "[encoded data removed]",
      "text/plain": [
       "<matplotlib.figure.Figure at 0x11441e668>"
      ]
     },
     "metadata": {},
     "output_type": "display_data"
    }
   ],
   "source": [
    "n, N = 10, 1000\n",
    "x = np.linspace(-3, 3, n)\n",
    "X = np.linspace(-4, 4, N)\n",
    "\n",
    "# Original data\n",
    "np.random.seed(5)\n",
    "y = x + 0.2 * np.random.normal(size=n)\n",
    "y[2], y[n -2], y[n - 1] = [-4] * 3\n",
    "\n",
    "# Tukey Regression\n",
    "Phi = np.array([[1, x[i]] for i in range(n)])\n",
    "thetas = np.random.normal(1, 0.1, 2)\n",
    "ETA = 2\n",
    "def w_tukey(r):\n",
    "    return (1 - (r**2)/(ETA**2))**2 if np.absolute(r) <= ETA else 0\n",
    "# Iteration\n",
    "for step in range(20):\n",
    "    errors = y - np.matmul(Phi, thetas)\n",
    "    _W = np.diag([w_tukey(err) for err in errors])\n",
    "    Q = Phi.T @ _W @ Phi\n",
    "    if np.linalg.det(Q) == 0:\n",
    "        break\n",
    "    thetas = np.linalg.inv(Q) @ Phi.T @ _W @ y\n",
    "\n",
    "# Prediction\n",
    "def pred(x):\n",
    "    return thetas[0] + thetas[1] * x\n",
    "    \n",
    "plt.scatter(x, y)\n",
    "plt.plot(X, pred(X), 'b-')\n",
    "axes = plt.gca()\n",
    "axes.set_ylim([-4.5, 3])\n",
    "plt.show()"
   ]
  },
  {
   "cell_type": "code",
   "execution_count": null,
   "metadata": {
    "collapsed": true
   },
   "outputs": [],
   "source": []
  }
 ],
 "metadata": {
  "kernelspec": {
   "display_name": "Python 3",
   "language": "python",
   "name": "python3"
  },
  "language_info": {
   "codemirror_mode": {
    "name": "ipython",
    "version": 3
   },
   "file_extension": ".py",
   "mimetype": "text/x-python",
   "name": "python",
   "nbconvert_exporter": "python",
   "pygments_lexer": "ipython3",
   "version": "3.6.0"
  }
 },
 "nbformat": 4,
 "nbformat_minor": 2
}
