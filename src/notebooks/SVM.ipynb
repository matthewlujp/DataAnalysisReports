{
 "cells": [
  {
   "cell_type": "code",
   "execution_count": 3,
   "metadata": {
    "collapsed": true
   },
   "outputs": [],
   "source": [
    "import numpy as np\n",
    "import matplotlib.pyplot as plt\n",
    "import matplotlib\n",
    "% matplotlib inline"
   ]
  },
  {
   "cell_type": "code",
   "execution_count": 9,
   "metadata": {},
   "outputs": [
    {
     "name": "stdout",
     "output_type": "stream",
     "text": [
      "(2, 200)\n"
     ]
    }
   ],
   "source": [
    "rs = np.random.RandomState(42)\n",
    "n = 200\n",
    "X = np.array([np.concatenate((rs.randn(n//2) + 5, rs.randn(n//2) - 5)),\n",
    "                        rs.randn(n)])\n",
    "y = np.concatenate((np.ones(n//2), - np.ones(n//2)))\n",
    "y[:3] = -1\n",
    "y[n//2:n//2 + 3] = 1\n",
    "X[1, :3] += 5\n",
    "X[1, n//2:n//2 + 3] -= 5\n",
    "print(X.shape)"
   ]
  },
  {
   "cell_type": "code",
   "execution_count": 7,
   "metadata": {},
   "outputs": [
    {
     "name": "stdout",
     "output_type": "stream",
     "text": [
      "0 [ 0.  0.]\n",
      "50 [ 22651.56170768 -29664.48048388]\n",
      "100 [ 21546.2929838  -28217.02079381]\n",
      "150 [ 20494.95515297 -26840.18899002]\n",
      "[ 19494.91669115 -25530.53882918]\n"
     ]
    }
   ],
   "source": [
    "p_rs = np.random.RandomState(15)\n",
    "# theta = p_rs.normal(0, 0.01, n)\n",
    "theta = np.zeros(n)\n",
    "b = 0\n",
    "\n",
    "def f_th(x):\n",
    "    global theta, b, X\n",
    "    return x @ X @ theta + b\n",
    "\n",
    "def sub_diff(i, k):\n",
    "    \"\"\"Sub-differentiate by k_th theta\"\"\"\n",
    "    global theta, b, X, y\n",
    "    if 1 - y[i] * f_th(X[:, i]) > 0:\n",
    "        return - y[i] * np.matmul(X[:, k], X[:, i])\n",
    "    else:\n",
    "        return 0\n",
    "    \n",
    "def sub_diff_b(i):\n",
    "    \"\"\"Sub-differentiate by b\"\"\"\n",
    "    global theta, b, X, y\n",
    "    if 1 - y[i] * f_th(X[:, i]) > 0:\n",
    "        return - y[i]\n",
    "    else:\n",
    "        return 0\n",
    "    \n",
    "def update_theta(k, lamb=0.01):\n",
    "    \"\"\"Return update for k_th theta\"\"\"\n",
    "    global theta, n\n",
    "    val = lamb * theta[k]\n",
    "    for i in range(n):\n",
    "        val += sub_diff(i, k)\n",
    "    return val\n",
    "\n",
    "def update_b():\n",
    "    \"\"\"Return update for b\"\"\"\n",
    "    global n\n",
    "    val = 0\n",
    "    for i in range(n):\n",
    "        val += sub_diff_b(i)\n",
    "    return val\n",
    "        \n",
    "iter_num = 200\n",
    "for l in range(iter_num):\n",
    "    if l % 50 == 0:\n",
    "        print(l, X @ theta)\n",
    "    eps = 0.1\n",
    "    new_theta = np.copy(theta)\n",
    "    for i, t in enumerate(theta):\n",
    "        new_theta[i] -= eps * update_theta(i)\n",
    "    b -= eps * update_b()\n",
    "    theta = new_theta\n",
    "    \n",
    "w = X @ theta    \n",
    "print(w)"
   ]
  },
  {
   "cell_type": "code",
   "execution_count": 8,
   "metadata": {},
   "outputs": [
    {
     "data": {
      "image/png": "[encoded data removed]",
      "text/plain": [
       "<matplotlib.figure.Figure at 0x113e09e48>"
      ]
     },
     "metadata": {},
     "output_type": "display_data"
    }
   ],
   "source": [
    "plt.scatter(X[0, np.where(Y==1)], X[1, np.where(Y==1)], c='r', marker='x')\n",
    "plt.scatter(X[0, np.where(Y==-1)], X[1, np.where(Y==-1)], c='b', marker='o')\n",
    "_x = np.linspace(-10, 10)\n",
    "plt.plot(_x, b - _x * w[0] / w[1])\n",
    "plt.ylim(-10, 10)\n",
    "plt.xlim(-10, 10)\n",
    "plt.show()"
   ]
  },
  {
   "cell_type": "code",
   "execution_count": 2,
   "metadata": {},
   "outputs": [
    {
     "ename": "NameError",
     "evalue": "name 'Y' is not defined",
     "output_type": "error",
     "traceback": [
      "\u001b[0;31m---------------------------------------------------------------------------\u001b[0m",
      "\u001b[0;31mNameError\u001b[0m                                 Traceback (most recent call last)",
      "\u001b[0;32m<ipython-input-2-f8caf16cb8f9>\u001b[0m in \u001b[0;36m<module>\u001b[0;34m()\u001b[0m\n\u001b[0;32m----> 1\u001b[0;31m \u001b[0mY\u001b[0m\u001b[0;34m\u001b[0m\u001b[0m\n\u001b[0m",
      "\u001b[0;31mNameError\u001b[0m: name 'Y' is not defined"
     ]
    }
   ],
   "source": [
    "Y"
   ]
  },
  {
   "cell_type": "code",
   "execution_count": null,
   "metadata": {
    "collapsed": true
   },
   "outputs": [],
   "source": []
  }
 ],
 "metadata": {
  "kernelspec": {
   "display_name": "Python 3",
   "language": "python",
   "name": "python3"
  },
  "language_info": {
   "codemirror_mode": {
    "name": "ipython",
    "version": 3
   },
   "file_extension": ".py",
   "mimetype": "text/x-python",
   "name": "python",
   "nbconvert_exporter": "python",
   "pygments_lexer": "ipython3",
   "version": "3.6.0"
  }
 },
 "nbformat": 4,
 "nbformat_minor": 2
}
