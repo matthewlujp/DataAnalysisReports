{
 "cells": [
  {
   "cell_type": "code",
   "execution_count": 13,
   "metadata": {
    "collapsed": true
   },
   "outputs": [],
   "source": [
    "import numpy as np\n",
    "from numpy.random import randn\n",
    "from matplotlib import pyplot as plt\n",
    "%matplotlib inline"
   ]
  },
  {
   "cell_type": "code",
   "execution_count": 84,
   "metadata": {},
   "outputs": [],
   "source": [
    "n = 90\n",
    "c = 3\n",
    "\n",
    "class DataGenerator:\n",
    "    def __init__(self, n=90, c=3):\n",
    "        assert(n % c == 0)\n",
    "        length = n // c\n",
    "        self._classes = np.arange(1, c + 1)\n",
    "        self._y = np.array([np.ones(length) * i for i in range(1, c + 1)])\n",
    "        self._x = randn(c, length) + np.array([np.linspace(-3, 3, c)] * length).T\n",
    "\n",
    "    @property\n",
    "    def x_1d(self):\n",
    "        return self._x.reshape(-1)\n",
    "\n",
    "    @property\n",
    "    def y_1d(self):\n",
    "        return self._y.reshape(-1)\n",
    "\n",
    "    @property\n",
    "    def classes(self) -> list:\n",
    "        return list(self._classes)\n"
   ]
  },
  {
   "cell_type": "code",
   "execution_count": 123,
   "metadata": {
    "collapsed": true
   },
   "outputs": [],
   "source": [
    "class GauseKernelRegression:\n",
    "    H = .9\n",
    "    LAMBDA = 1.\n",
    "\n",
    "    def __init__(self, data: DataGenerator):\n",
    "        self._data = data\n",
    "        self._K = self._build_K(data.x_1d)\n",
    "        self._thetas = dict.fromkeys(data.classes, None)\n",
    "\n",
    "    def _kernel(self, x: np.array, c: np.array) -> np.array:\n",
    "        diff = np.abs(x - c)\n",
    "        return np.exp(- diff**2 / (2 * self.H**2))\n",
    "\n",
    "    def _build_K(self, X: np.array) -> np.array:\n",
    "        return np.array([self._line_kernel(v) for v in X])\n",
    "\n",
    "    def _line_kernel(self, v: float) -> np.array:\n",
    "        vec = np.ones(self._data.x_1d.shape) * v\n",
    "        return self._kernel(vec, self._data.x_1d)\n",
    "\n",
    "    def _theta(self, label: int) -> np.array:\n",
    "        if self._thetas[label] is not None:\n",
    "            return self._thetas[label]\n",
    "        else:\n",
    "            Q = self._K.T @ self._K + self.LAMBDA * np.identity(len(self._data.x_1d))\n",
    "            inv_Q = np.linalg.inv(Q)\n",
    "            th = inv_Q @ self._K.T @ (self._data.y_1d == label)\n",
    "            self._thetas[label] = th\n",
    "            return th\n",
    "\n",
    "    def _psudo_prob(self, x: float, y: int) -> float:\n",
    "        return self._line_kernel(x) @ self._theta(y)\n",
    "\n",
    "    def probs(self, x: float) -> np.array:\n",
    "        ps = np.array([max(0, self._psudo_prob(x, y)) for y in self._data.classes])\n",
    "        return ps / np.sum(ps)\n"
   ]
  },
  {
   "cell_type": "code",
   "execution_count": 128,
   "metadata": {},
   "outputs": [
    {
     "data": {
      "text/plain": [
       "[<matplotlib.lines.Line2D at 0x111710240>]"
      ]
     },
     "execution_count": 128,
     "metadata": {},
     "output_type": "execute_result"
    },
    {
     "data": {
      "image/png": "[encoded data removed]",
      "text/plain": [
       "<matplotlib.figure.Figure at 0x110d13320>"
      ]
     },
     "metadata": {},
     "output_type": "display_data"
    }
   ],
   "source": [
    "¡"
   ]
  },
  {
   "cell_type": "code",
   "execution_count": null,
   "metadata": {
    "collapsed": true
   },
   "outputs": [],
   "source": []
  }
 ],
 "metadata": {
  "kernelspec": {
   "display_name": "Python 3",
   "language": "python",
   "name": "python3"
  },
  "language_info": {
   "codemirror_mode": {
    "name": "ipython",
    "version": 3
   },
   "file_extension": ".py",
   "mimetype": "text/x-python",
   "name": "python",
   "nbconvert_exporter": "python",
   "pygments_lexer": "ipython3",
   "version": "3.6.0"
  }
 },
 "nbformat": 4,
 "nbformat_minor": 2
}
