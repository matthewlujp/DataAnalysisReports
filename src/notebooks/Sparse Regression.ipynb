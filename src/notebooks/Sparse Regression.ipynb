{
 "cells": [
  {
   "cell_type": "code",
   "execution_count": 1,
   "metadata": {
    "collapsed": true
   },
   "outputs": [],
   "source": [
    "import matplotlib\n",
    "import matplotlib.pyplot as plt\n",
    "%matplotlib inline"
   ]
  },
  {
   "cell_type": "code",
   "execution_count": 5,
   "metadata": {
    "collapsed": true
   },
   "outputs": [],
   "source": [
    "from sklearn.kernel_ridge import KernelRidge\n",
    "import matplotlib.pyplot as plt\n",
    "import numpy as np\n",
    "\n",
    "\n",
    "def org_model(x):\n",
    "    return np.sin(np.pi * x) / (np.pi * x) + 0.1 * x\n",
    "\n",
    "\n",
    "def get_samples(x_samples, f):\n",
    "    return f(x_samples) + 0.2* np.random.randn(len(x_samples))\n",
    "\n",
    "\n",
    "def kern(x, c, h=0.2):\n",
    "    norm = x - c\n",
    "    return np.exp(- norm**2 / (2 * (h**2)))\n",
    "\n",
    "\n",
    "kerns = np.vectorize(kern)\n",
    "def kern_matrix(x_samples, h=0.2):\n",
    "    return np.array([kerns(xi, x_samples, h) for xi in x_samples])\n",
    "\n",
    "\n",
    "def ADM(samples_x, samples_y, lamb=1, h=0.2):\n",
    "    dim = len(samples_x)\n",
    "    u, z = np.zeros(dim), np.zeros(dim)\n",
    "    K = kern_matrix(samples_x, h)\n",
    "    \n",
    "    iteration_cycles = 1500\n",
    "    for i in range(iteration_cycles):\n",
    "            theta = next_theta(K, samples_y, u, z, lamb, h)\n",
    "            z = next_z(theta, u, lamb)\n",
    "            u = next_u(theta, u, z)\n",
    "    return theta\n",
    "\n",
    "\n",
    "def next_theta(K, y, u, z, lamb=1, h=0.2):\n",
    "    Kt = np.transpose(K)\n",
    "    Q = np.linalg.inv(np.matmul(Kt, K) + np.eye(len(y)))\n",
    "    gamma = np.matmul(Kt, y) + z - u\n",
    "    return np.matmul(Q, gamma)\n",
    "\n",
    "\n",
    "def next_z(theta, u, lamb=1):\n",
    "    term1 = np.maximum(0, theta + u - lamb * np.ones(len(u)))\n",
    "    term2 = np.maximum(0, - theta - u - lamb * np.ones(len(u)))\n",
    "    return term1 - term2\n",
    "\n",
    "\n",
    "def next_u(theta, u, z):\n",
    "    return theta + u - z\n",
    "\n",
    "\n",
    "def kern_model_gen(x_samples, y_samples, lamb=1, h=0.2):\n",
    "    est_theta = ADM(x_samples, y_samples, lamb, h)\n",
    "    def _model(x):\n",
    "        return np.dot(est_theta, kerns(x, x_samples, h))\n",
    "    v_model = np.vectorize(_model)\n",
    "    return v_model\n"
   ]
  },
  {
   "cell_type": "code",
   "execution_count": 6,
   "metadata": {},
   "outputs": [
    {
     "data": {
      "image/png": "[encoded data removed]",
      "text/plain": [
       "<matplotlib.figure.Figure at 0x10c0b6c50>"
      ]
     },
     "metadata": {},
     "output_type": "display_data"
    }
   ],
   "source": [
    "np.random.seed()\n",
    "x_min, x_max = -3, 3\n",
    "n = 50\n",
    "N = 1000\n",
    "x = np.linspace(x_min, x_max, n)\n",
    "X = np.linspace(x_min, x_max, N)\n",
    "\n",
    "y = org_model(x)\n",
    "# _y = get_samples(x, org_model)\n",
    "\n",
    "lamb = 0.1\n",
    "h = 0.7\n",
    "# h = 0.1\n",
    "est_model = kern_model_gen(x, _y, lamb, h)\n",
    "Y = est_model(X)\n",
    "\n",
    "# Use kernel ridge model in sklearn\n",
    "# clf = KernelRidge(alpha=1.0, kernel='rbf')\n",
    "# clf.fit(x.reshape((-1, 1)), _y)\n",
    "# Y2 = clf.predict(X.reshape((-1, 1)))\n",
    "\n",
    "plt.scatter(x, _y)\n",
    "# plt.plot(x, y, 'r-', X, Y, 'b-', X, Y2, 'g:')\n",
    "plt.plot(x, y, 'r-', X, Y, 'b-')\n",
    "plt.show()"
   ]
  },
  {
   "cell_type": "code",
   "execution_count": null,
   "metadata": {
    "collapsed": true
   },
   "outputs": [],
   "source": []
  }
 ],
 "metadata": {
  "kernelspec": {
   "display_name": "Python 3",
   "language": "python",
   "name": "python3"
  },
  "language_info": {
   "codemirror_mode": {
    "name": "ipython",
    "version": 3
   },
   "file_extension": ".py",
   "mimetype": "text/x-python",
   "name": "python",
   "nbconvert_exporter": "python",
   "pygments_lexer": "ipython3",
   "version": "3.6.0"
  }
 },
 "nbformat": 4,
 "nbformat_minor": 2
}
